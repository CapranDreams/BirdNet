{
 "cells": [
  {
   "cell_type": "markdown",
   "metadata": {},
   "source": [
    "### Change link to the database file\n"
   ]
  },
  {
   "cell_type": "code",
   "execution_count": 1,
   "metadata": {},
   "outputs": [],
   "source": [
    "import sqlite3\n",
    "import pandas as pd\n",
    "\n",
    "database_path = \"example_birds.db\"\n"
   ]
  },
  {
   "cell_type": "markdown",
   "metadata": {},
   "source": [
    "### Connect to the database\n",
    "A *.db file is a SQLite database file and has multiple tables inside the database.\n"
   ]
  },
  {
   "cell_type": "code",
   "execution_count": 2,
   "metadata": {},
   "outputs": [
    {
     "name": "stdout",
     "output_type": "stream",
     "text": [
      "[('alembic_version',), ('birds',), ('birds_now',), ('wav_spectrogram',)]\n"
     ]
    }
   ],
   "source": [
    "db = sqlite3.connect(database_path)\n",
    "\n",
    "# Get the table names\n",
    "cursor = db.cursor()\n",
    "cursor.execute(\"SELECT name FROM sqlite_master WHERE type='table';\")\n",
    "table_names = cursor.fetchall()\n",
    "print(table_names)\n",
    "# [('alembic_version',), ('birds',), ('birds_now',), ('wav_spectrogram',)]"
   ]
  },
  {
   "cell_type": "markdown",
   "metadata": {},
   "source": [
    "'alembic_version' can be ignored, this is just for the migration history of the database\n",
    "\n",
    "'birds' is the table that contains the bird observations over the entire history of the database\n",
    "\n",
    "'birds_now' is just the findings in the last recording chunk\n",
    "\n",
    "'wav_spectrogram' is the spectrogram of the last recording chunk"
   ]
  },
  {
   "cell_type": "markdown",
   "metadata": {},
   "source": [
    "### Create a pandas dataframe from the 'birds' table"
   ]
  },
  {
   "cell_type": "code",
   "execution_count": 3,
   "metadata": {},
   "outputs": [
    {
     "data": {
      "text/html": [
       "<div>\n",
       "<style scoped>\n",
       "    .dataframe tbody tr th:only-of-type {\n",
       "        vertical-align: middle;\n",
       "    }\n",
       "\n",
       "    .dataframe tbody tr th {\n",
       "        vertical-align: top;\n",
       "    }\n",
       "\n",
       "    .dataframe thead th {\n",
       "        text-align: right;\n",
       "    }\n",
       "</style>\n",
       "<table border=\"1\" class=\"dataframe\">\n",
       "  <thead>\n",
       "    <tr style=\"text-align: right;\">\n",
       "      <th></th>\n",
       "      <th>id</th>\n",
       "      <th>scientific_name</th>\n",
       "      <th>common_name</th>\n",
       "      <th>confidence</th>\n",
       "      <th>sighting_time</th>\n",
       "      <th>location_name</th>\n",
       "      <th>latitude</th>\n",
       "      <th>longitude</th>\n",
       "    </tr>\n",
       "  </thead>\n",
       "  <tbody>\n",
       "    <tr>\n",
       "      <th>0</th>\n",
       "      <td>1</td>\n",
       "      <td>Poecile atricapillus</td>\n",
       "      <td>Black-capped Chickadee</td>\n",
       "      <td>0.394002</td>\n",
       "      <td>2025-02-02 13:00:12.000000</td>\n",
       "      <td>Backyard_1</td>\n",
       "      <td>45.080681</td>\n",
       "      <td>-92.898758</td>\n",
       "    </tr>\n",
       "    <tr>\n",
       "      <th>1</th>\n",
       "      <td>2</td>\n",
       "      <td>Dryobates pubescens</td>\n",
       "      <td>Downy Woodpecker</td>\n",
       "      <td>0.190210</td>\n",
       "      <td>2025-02-02 13:00:12.000000</td>\n",
       "      <td>Backyard_1</td>\n",
       "      <td>45.080681</td>\n",
       "      <td>-92.898758</td>\n",
       "    </tr>\n",
       "    <tr>\n",
       "      <th>2</th>\n",
       "      <td>3</td>\n",
       "      <td>Poecile atricapillus</td>\n",
       "      <td>Black-capped Chickadee</td>\n",
       "      <td>0.503512</td>\n",
       "      <td>2025-02-02 13:00:12.000000</td>\n",
       "      <td>Backyard_1</td>\n",
       "      <td>45.080681</td>\n",
       "      <td>-92.898758</td>\n",
       "    </tr>\n",
       "    <tr>\n",
       "      <th>3</th>\n",
       "      <td>4</td>\n",
       "      <td>Poecile atricapillus</td>\n",
       "      <td>Black-capped Chickadee</td>\n",
       "      <td>0.152954</td>\n",
       "      <td>2025-02-02 13:00:12.000000</td>\n",
       "      <td>Backyard_1</td>\n",
       "      <td>45.080681</td>\n",
       "      <td>-92.898758</td>\n",
       "    </tr>\n",
       "    <tr>\n",
       "      <th>4</th>\n",
       "      <td>5</td>\n",
       "      <td>Poecile atricapillus</td>\n",
       "      <td>Black-capped Chickadee</td>\n",
       "      <td>0.394002</td>\n",
       "      <td>2025-02-02 13:00:12.000000</td>\n",
       "      <td>Backyard_1</td>\n",
       "      <td>45.080681</td>\n",
       "      <td>-92.898758</td>\n",
       "    </tr>\n",
       "  </tbody>\n",
       "</table>\n",
       "</div>"
      ],
      "text/plain": [
       "   id       scientific_name             common_name  confidence  \\\n",
       "0   1  Poecile atricapillus  Black-capped Chickadee    0.394002   \n",
       "1   2   Dryobates pubescens        Downy Woodpecker    0.190210   \n",
       "2   3  Poecile atricapillus  Black-capped Chickadee    0.503512   \n",
       "3   4  Poecile atricapillus  Black-capped Chickadee    0.152954   \n",
       "4   5  Poecile atricapillus  Black-capped Chickadee    0.394002   \n",
       "\n",
       "                sighting_time location_name   latitude  longitude  \n",
       "0  2025-02-02 13:00:12.000000    Backyard_1  45.080681 -92.898758  \n",
       "1  2025-02-02 13:00:12.000000    Backyard_1  45.080681 -92.898758  \n",
       "2  2025-02-02 13:00:12.000000    Backyard_1  45.080681 -92.898758  \n",
       "3  2025-02-02 13:00:12.000000    Backyard_1  45.080681 -92.898758  \n",
       "4  2025-02-02 13:00:12.000000    Backyard_1  45.080681 -92.898758  "
      ]
     },
     "execution_count": 3,
     "metadata": {},
     "output_type": "execute_result"
    }
   ],
   "source": [
    "SQL_query = \"SELECT * FROM birds\"\n",
    "birds_df = pd.read_sql_query(SQL_query, db)\n",
    "birds_df.head()\n"
   ]
  },
  {
   "cell_type": "code",
   "execution_count": null,
   "metadata": {},
   "outputs": [],
   "source": []
  }
 ],
 "metadata": {
  "kernelspec": {
   "display_name": "venv_birdnet",
   "language": "python",
   "name": "python3"
  },
  "language_info": {
   "codemirror_mode": {
    "name": "ipython",
    "version": 3
   },
   "file_extension": ".py",
   "mimetype": "text/x-python",
   "name": "python",
   "nbconvert_exporter": "python",
   "pygments_lexer": "ipython3",
   "version": "3.11.9"
  }
 },
 "nbformat": 4,
 "nbformat_minor": 2
}
