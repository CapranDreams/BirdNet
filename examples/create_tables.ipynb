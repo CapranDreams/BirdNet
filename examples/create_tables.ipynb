{
 "cells": [
  {
   "cell_type": "markdown",
   "metadata": {},
   "source": [
    "# Define the path to the database to be written to (birds.db and ebirds.db)"
   ]
  },
  {
   "cell_type": "code",
   "execution_count": 5,
   "metadata": {},
   "outputs": [],
   "source": [
    "import sqlite3\n",
    "import pandas as pd\n",
    "\n",
    "# Configure the following variables to your location.\n",
    "your_latitude = 12.345              # Enter your latitude here\n",
    "your_longitude = 67.890             # Enter your longitude here\n",
    "your_state = \"DC\"                   # Enter your 2 letter state code here (you must live in the US for this application to use the eBird features. I welcome help adding other countries!)\n",
    "your_subregion_code = \"US-DC-00\"    # Enter your subregion code here. If you do not know your subregion code, fill it out as \"US-DC-00\" but replace DC with your state code and leave the 00 as is.\n",
    "\n",
    "# input your username if on a windows machine. Otherwise, adjust the absolute path to the databases on the 2 lines below.\n",
    "pc_username = \"<user>\"\n",
    "database_path_birds = f\"C:/Users/{pc_username}/source/repos/BirdNET/birdnet/BirdNET_UI/birds.db\"\n",
    "database_path_ebirds = f\"C:/Users/{pc_username}/source/repos/BirdNET/birdnet/BirdNET_UI/ebirds.db\""
   ]
  },
  {
   "cell_type": "markdown",
   "metadata": {},
   "source": [
    "# Create the databases"
   ]
  },
  {
   "cell_type": "code",
   "execution_count": 6,
   "metadata": {},
   "outputs": [],
   "source": [
    "db_birds = sqlite3.connect(database_path_birds)\n",
    "db_birds.close()\n",
    "db_ebirds = sqlite3.connect(database_path_ebirds)\n",
    "db_ebirds.close()"
   ]
  },
  {
   "cell_type": "markdown",
   "metadata": {},
   "source": [
    "# Create the tables"
   ]
  },
  {
   "cell_type": "markdown",
   "metadata": {},
   "source": [
    "### Tables for birds.db\n",
    "\n",
    "```sql\n",
    "CREATE TABLE birds (\n",
    "        id INTEGER NOT NULL PRIMARY KEY AUTOINCREMENT,\n",
    "        scientific_name VARCHAR NOT NULL,\n",
    "        common_name VARCHAR NOT NULL,\n",
    "        confidence FLOAT NOT NULL,\n",
    "        sighting_time DATETIME NOT NULL,\n",
    "        location_name VARCHAR,\n",
    "        latitude FLOAT,\n",
    "        longitude FLOAT\n",
    ");\n",
    "CREATE TABLE birds_now (\n",
    "        id INTEGER NOT NULL,\n",
    "        scientific_name VARCHAR NOT NULL,\n",
    "        common_name VARCHAR NOT NULL,\n",
    "        confidence FLOAT NOT NULL,\n",
    "        sighting_time DATETIME NOT NULL,\n",
    "        PRIMARY KEY (id)\n",
    ");\n",
    "CREATE TABLE wav_spectrogram (\n",
    "        id INTEGER NOT NULL,\n",
    "        frequencies JSON NOT NULL,\n",
    "        times JSON NOT NULL,\n",
    "        spectrogram JSON NOT NULL,\n",
    "        PRIMARY KEY (id)\n",
    ");\n",
    "CREATE TABLE config (\n",
    "    id INTEGER NOT NULL PRIMARY KEY,\n",
    "    key TEXT NOT NULL,\n",
    "    value TEXT NOT NULL\n",
    ");\n",
    "```\n"
   ]
  },
  {
   "cell_type": "code",
   "execution_count": 12,
   "metadata": {},
   "outputs": [
    {
     "name": "stdout",
     "output_type": "stream",
     "text": [
      "An error occurred: table birds already exists\n",
      "An error occurred: table birds_now already exists\n",
      "An error occurred: table wav_spectrogram already exists\n",
      "An error occurred: table config already exists\n"
     ]
    }
   ],
   "source": [
    "def execute_sql(database_path, sql_string):\n",
    "    try:\n",
    "        db = sqlite3.connect(database_path)\n",
    "        db.execute(sql_string)\n",
    "        db.commit()\n",
    "    except Exception as e:\n",
    "        print(f\"An error occurred: {e}\")\n",
    "    finally:\n",
    "        db.close()\n",
    "\n",
    "execute_sql(database_path_birds, \"CREATE TABLE birds (id INTEGER PRIMARY KEY AUTOINCREMENT, scientific_name TEXT, common_name TEXT, confidence REAL, sighting_time TEXT, location_name TEXT, latitude REAL, longitude REAL)\")\n",
    "execute_sql(database_path_birds, \"CREATE TABLE birds_now (id INTEGER PRIMARY KEY AUTOINCREMENT, scientific_name TEXT, common_name TEXT, confidence REAL, sighting_time TEXT)\")\n",
    "execute_sql(database_path_birds, \"CREATE TABLE wav_spectrogram (id INTEGER PRIMARY KEY AUTOINCREMENT, frequencies JSON, times JSON, spectrogram JSON)\")\n",
    "execute_sql(database_path_birds, \"CREATE TABLE config (id INTEGER PRIMARY KEY AUTOINCREMENT, key TEXT, value TEXT)\")"
   ]
  },
  {
   "cell_type": "markdown",
   "metadata": {},
   "source": [
    "### Tables for ebirds.db\n",
    "\n",
    "```sql\n",
    "CREATE TABLE ebirds (\n",
    "    id INTEGER NOT NULL,\n",
    "    common_name TEXT NOT NULL,\n",
    "    scientific_name TEXT NOT NULL,\n",
    "    species_code TEXT,\n",
    "    rarity REAL NOT NULL,\n",
    "    image TEXT,\n",
    "    PRIMARY KEY (id)\n",
    ");\n",
    "CREATE TABLE config (\n",
    "    id INTEGER NOT NULL,\n",
    "    state TEXT NOT NULL,\n",
    "    subregion_code TEXT NOT NULL,\n",
    "    latitude REAL NOT NULL,\n",
    "    longitude REAL NOT NULL,\n",
    "    compiled BOOLEAN NOT NULL,\n",
    "        PRIMARY KEY (id)\n",
    ");\n",
    "```\n"
   ]
  },
  {
   "cell_type": "code",
   "execution_count": 10,
   "metadata": {},
   "outputs": [],
   "source": [
    "execute_sql(database_path_ebirds, \"CREATE TABLE ebirds (id INTEGER PRIMARY KEY AUTOINCREMENT, common_name TEXT, scientific_name TEXT, species_code TEXT, rarity REAL, image TEXT)\")\n",
    "execute_sql(database_path_ebirds, \"CREATE TABLE config (id INTEGER PRIMARY KEY AUTOINCREMENT, state TEXT, subregion_code TEXT, latitude REAL, longitude REAL, compiled BOOLEAN)\")"
   ]
  },
  {
   "cell_type": "markdown",
   "metadata": {},
   "source": [
    "# Add default config values"
   ]
  },
  {
   "cell_type": "markdown",
   "metadata": {},
   "source": [
    "### birds.db\n",
    "\n",
    "```sql\n",
    "INSERT INTO config (id, key, value) VALUES (0, 'confidence_threshold', '0.7');\n",
    "INSERT INTO config (id, key, value) VALUES (1, 'history_days', '7');\n",
    "INSERT INTO config (id, key, value) VALUES (2, 'max_frequency', '12000');\n",
    "INSERT INTO config (id, key, value) VALUES (3, 'latitude', '________________');\n",
    "INSERT INTO config (id, key, value) VALUES (4, 'longitude', '________________');\n",
    "INSERT INTO config (id, key, value) VALUES (5, 'state', '________________');\n",
    "INSERT INTO config (id, key, value) VALUES (6, 'subregion_code', '________________');\n",
    "INSERT INTO config (id, key, value) VALUES (7, 'confidence_threshold_for_add_to_db', '0.5');\n",
    "```\n"
   ]
  },
  {
   "cell_type": "code",
   "execution_count": null,
   "metadata": {},
   "outputs": [],
   "source": [
    "execute_sql(database_path_birds, \"INSERT INTO config (id, key, value) VALUES (0, 'confidence_threshold', '0.7');\")\n",
    "execute_sql(database_path_birds, \"INSERT INTO config (id, key, value) VALUES (1, 'history_days', '7');\")\n",
    "execute_sql(database_path_birds, \"INSERT INTO config (id, key, value) VALUES (2, 'max_frequency', '12000');\")\n",
    "execute_sql(database_path_birds, f\"INSERT INTO config (id, key, value) VALUES (3, 'latitude', '{your_latitude}');\")\n",
    "execute_sql(database_path_birds, f\"INSERT INTO config (id, key, value) VALUES (4, 'longitude', '{your_longitude}');\")\n",
    "execute_sql(database_path_birds, f\"INSERT INTO config (id, key, value) VALUES (5, 'state', '{your_state}');\")\n",
    "execute_sql(database_path_birds, f\"INSERT INTO config (id, key, value) VALUES (6, 'subregion_code', '{your_subregion_code}');\")\n",
    "execute_sql(database_path_birds, \"INSERT INTO config (id, key, value) VALUES (7, 'confidence_threshold_for_add_to_db', '0.5');\")"
   ]
  },
  {
   "cell_type": "markdown",
   "metadata": {},
   "source": [
    "### ebirds.db\n",
    "\n",
    "```sql\n",
    "INSERT INTO config (id, state, subregion_code, latitude, longitude, compiled) VALUES (0, '_____', '_____', _____, _____, 0);\n",
    "```"
   ]
  },
  {
   "cell_type": "code",
   "execution_count": 15,
   "metadata": {},
   "outputs": [],
   "source": [
    "execute_sql(database_path_ebirds, f\"INSERT INTO config (id, state, subregion_code, latitude, longitude, compiled) VALUES (0, '{your_state}', '{your_subregion_code}', {your_latitude}, {your_longitude}, 0);\")"
   ]
  },
  {
   "cell_type": "code",
   "execution_count": null,
   "metadata": {},
   "outputs": [],
   "source": []
  }
 ],
 "metadata": {
  "kernelspec": {
   "display_name": "venv_birdnet",
   "language": "python",
   "name": "python3"
  },
  "language_info": {
   "codemirror_mode": {
    "name": "ipython",
    "version": 3
   },
   "file_extension": ".py",
   "mimetype": "text/x-python",
   "name": "python",
   "nbconvert_exporter": "python",
   "pygments_lexer": "ipython3",
   "version": "3.11.9"
  }
 },
 "nbformat": 4,
 "nbformat_minor": 2
}
